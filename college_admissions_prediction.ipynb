{
  "nbformat": 4,
  "nbformat_minor": 0,
  "metadata": {
    "colab": {
      "name": "college_admissions_prediction.ipynb",
      "provenance": [],
      "collapsed_sections": [],
      "toc_visible": true,
      "authorship_tag": "ABX9TyOfLxShZZWoTx5mUi8Z1IQC",
      "include_colab_link": true
    },
    "kernelspec": {
      "name": "python3",
      "display_name": "Python 3"
    }
  },
  "cells": [
    {
      "cell_type": "markdown",
      "metadata": {
        "id": "view-in-github",
        "colab_type": "text"
      },
      "source": [
        "<a href=\"https://colab.research.google.com/github/asarma2012/DataScience-Analytics-Engineering-ML-Projects/blob/main/college_admissions_prediction/college_admissions_prediction.ipynb\" target=\"_parent\"><img src=\"https://colab.research.google.com/assets/colab-badge.svg\" alt=\"Open In Colab\"/></a>"
      ]
    },
    {
      "cell_type": "markdown",
      "metadata": {
        "id": "b43b6DNdUPru"
      },
      "source": [
        "# Predicting College Admission Chances for Candidates"
      ]
    },
    {
      "cell_type": "code",
      "metadata": {
        "id": "AZ5l6H6gSrel"
      },
      "source": [
        "import pandas as pd\n",
        "import numpy as np\n",
        "import matplotlib.pyplot as plt"
      ],
      "execution_count": 59,
      "outputs": []
    },
    {
      "cell_type": "markdown",
      "metadata": {
        "id": "GdHIJhT6aSdr"
      },
      "source": [
        "## College Admissions Dataset"
      ]
    },
    {
      "cell_type": "code",
      "metadata": {
        "colab": {
          "base_uri": "https://localhost:8080/",
          "height": 419
        },
        "id": "lMAc5d0WaOG5",
        "outputId": "66fa6e1a-d9bd-4c34-8f20-53adc5350fcd"
      },
      "source": [
        "admissions = pd.read_csv(\"admissions.csv\")\n",
        "admissions"
      ],
      "execution_count": 60,
      "outputs": [
        {
          "output_type": "execute_result",
          "data": {
            "text/html": [
              "<div>\n",
              "<style scoped>\n",
              "    .dataframe tbody tr th:only-of-type {\n",
              "        vertical-align: middle;\n",
              "    }\n",
              "\n",
              "    .dataframe tbody tr th {\n",
              "        vertical-align: top;\n",
              "    }\n",
              "\n",
              "    .dataframe thead th {\n",
              "        text-align: right;\n",
              "    }\n",
              "</style>\n",
              "<table border=\"1\" class=\"dataframe\">\n",
              "  <thead>\n",
              "    <tr style=\"text-align: right;\">\n",
              "      <th></th>\n",
              "      <th>admit</th>\n",
              "      <th>gpa</th>\n",
              "      <th>gre</th>\n",
              "    </tr>\n",
              "  </thead>\n",
              "  <tbody>\n",
              "    <tr>\n",
              "      <th>0</th>\n",
              "      <td>0</td>\n",
              "      <td>3.177277</td>\n",
              "      <td>594.102992</td>\n",
              "    </tr>\n",
              "    <tr>\n",
              "      <th>1</th>\n",
              "      <td>0</td>\n",
              "      <td>3.412655</td>\n",
              "      <td>631.528607</td>\n",
              "    </tr>\n",
              "    <tr>\n",
              "      <th>2</th>\n",
              "      <td>0</td>\n",
              "      <td>2.728097</td>\n",
              "      <td>553.714399</td>\n",
              "    </tr>\n",
              "    <tr>\n",
              "      <th>3</th>\n",
              "      <td>0</td>\n",
              "      <td>3.093559</td>\n",
              "      <td>551.089985</td>\n",
              "    </tr>\n",
              "    <tr>\n",
              "      <th>4</th>\n",
              "      <td>0</td>\n",
              "      <td>3.141923</td>\n",
              "      <td>537.184894</td>\n",
              "    </tr>\n",
              "    <tr>\n",
              "      <th>...</th>\n",
              "      <td>...</td>\n",
              "      <td>...</td>\n",
              "      <td>...</td>\n",
              "    </tr>\n",
              "    <tr>\n",
              "      <th>639</th>\n",
              "      <td>1</td>\n",
              "      <td>3.381359</td>\n",
              "      <td>720.718438</td>\n",
              "    </tr>\n",
              "    <tr>\n",
              "      <th>640</th>\n",
              "      <td>1</td>\n",
              "      <td>3.083956</td>\n",
              "      <td>556.918021</td>\n",
              "    </tr>\n",
              "    <tr>\n",
              "      <th>641</th>\n",
              "      <td>1</td>\n",
              "      <td>3.114419</td>\n",
              "      <td>734.297679</td>\n",
              "    </tr>\n",
              "    <tr>\n",
              "      <th>642</th>\n",
              "      <td>1</td>\n",
              "      <td>3.549012</td>\n",
              "      <td>604.697503</td>\n",
              "    </tr>\n",
              "    <tr>\n",
              "      <th>643</th>\n",
              "      <td>1</td>\n",
              "      <td>3.532753</td>\n",
              "      <td>588.986175</td>\n",
              "    </tr>\n",
              "  </tbody>\n",
              "</table>\n",
              "<p>644 rows × 3 columns</p>\n",
              "</div>"
            ],
            "text/plain": [
              "     admit       gpa         gre\n",
              "0        0  3.177277  594.102992\n",
              "1        0  3.412655  631.528607\n",
              "2        0  2.728097  553.714399\n",
              "3        0  3.093559  551.089985\n",
              "4        0  3.141923  537.184894\n",
              "..     ...       ...         ...\n",
              "639      1  3.381359  720.718438\n",
              "640      1  3.083956  556.918021\n",
              "641      1  3.114419  734.297679\n",
              "642      1  3.549012  604.697503\n",
              "643      1  3.532753  588.986175\n",
              "\n",
              "[644 rows x 3 columns]"
            ]
          },
          "metadata": {
            "tags": []
          },
          "execution_count": 60
        }
      ]
    },
    {
      "cell_type": "code",
      "metadata": {
        "colab": {
          "base_uri": "https://localhost:8080/",
          "height": 265
        },
        "id": "ytZo7jztTGMw",
        "outputId": "7a3fe7be-0b2c-46e0-de2c-89c55875859f"
      },
      "source": [
        "plt.scatter(admissions['gpa'], admissions['admit'])\n",
        "plt.show()"
      ],
      "execution_count": 61,
      "outputs": [
        {
          "output_type": "display_data",
          "data": {
            "image/png": "[encoded data removed]",
            "text/plain": [
              "<Figure size 432x288 with 1 Axes>"
            ]
          },
          "metadata": {
            "tags": [],
            "needs_background": "light"
          }
        }
      ]
    },
    {
      "cell_type": "markdown",
      "metadata": {
        "id": "FtdLm9dvUfoa"
      },
      "source": [
        "## Exploring the Logistic Function"
      ]
    },
    {
      "cell_type": "code",
      "metadata": {
        "colab": {
          "base_uri": "https://localhost:8080/",
          "height": 265
        },
        "id": "MvceOIR7Tl9v",
        "outputId": "419effb4-48db-4f7b-a5a5-2a5c46fa795d"
      },
      "source": [
        "# Logistic Function\n",
        "def logistic(x):\n",
        "    # np.exp(x) raises x to the exponential power, ie e^x. e ~= 2.71828\n",
        "    return np.exp(x)  / (1 + np.exp(x)) \n",
        "    \n",
        "# Generate 50 real values, evenly spaced, between -6 and 6.\n",
        "x = np.linspace(-6,6,50, dtype=float)\n",
        "\n",
        "# Transform each number in t using the logistic function.\n",
        "y = logistic(x)\n",
        "\n",
        "# Plot the resulting data.\n",
        "plt.plot(x, y)\n",
        "plt.ylabel(\"Probability\")\n",
        "plt.show()"
      ],
      "execution_count": 62,
      "outputs": [
        {
          "output_type": "display_data",
          "data": {
            "image/png": "[encoded data removed]",
            "text/plain": [
              "<Figure size 432x288 with 1 Axes>"
            ]
          },
          "metadata": {
            "tags": [],
            "needs_background": "light"
          }
        }
      ]
    },
    {
      "cell_type": "markdown",
      "metadata": {
        "id": "inj-lXuhUqHx"
      },
      "source": [
        "## Linear Regression vs. Logistic Regression"
      ]
    },
    {
      "cell_type": "markdown",
      "metadata": {
        "id": "Ta70oULrU09M"
      },
      "source": [
        "### Linear Regression"
      ]
    },
    {
      "cell_type": "code",
      "metadata": {
        "colab": {
          "base_uri": "https://localhost:8080/"
        },
        "id": "lKicAKsYTvV7",
        "outputId": "166f3bb8-46a6-411a-ca0f-ad16ef73ce83"
      },
      "source": [
        "from sklearn.linear_model import LinearRegression\n",
        "linear_model = LinearRegression()\n",
        "linear_model.fit(admissions[[\"gpa\"]], admissions[\"admit\"])"
      ],
      "execution_count": 63,
      "outputs": [
        {
          "output_type": "execute_result",
          "data": {
            "text/plain": [
              "LinearRegression(copy_X=True, fit_intercept=True, n_jobs=None, normalize=False)"
            ]
          },
          "metadata": {
            "tags": []
          },
          "execution_count": 63
        }
      ]
    },
    {
      "cell_type": "markdown",
      "metadata": {
        "id": "cb0xGeGTU49z"
      },
      "source": [
        "### Logistic Regression"
      ]
    },
    {
      "cell_type": "code",
      "metadata": {
        "colab": {
          "base_uri": "https://localhost:8080/"
        },
        "id": "JYzbu9uTVD9K",
        "outputId": "db25c771-ec99-4311-bcdf-1691bfad6676"
      },
      "source": [
        "from sklearn.linear_model import LogisticRegression\n",
        "logistic_model = LogisticRegression()\n",
        "logistic_model.fit(admissions[[\"gpa\"]], admissions[\"admit\"])"
      ],
      "execution_count": 64,
      "outputs": [
        {
          "output_type": "execute_result",
          "data": {
            "text/plain": [
              "LogisticRegression(C=1.0, class_weight=None, dual=False, fit_intercept=True,\n",
              "                   intercept_scaling=1, l1_ratio=None, max_iter=100,\n",
              "                   multi_class='auto', n_jobs=None, penalty='l2',\n",
              "                   random_state=None, solver='lbfgs', tol=0.0001, verbose=0,\n",
              "                   warm_start=False)"
            ]
          },
          "metadata": {
            "tags": []
          },
          "execution_count": 64
        }
      ]
    },
    {
      "cell_type": "markdown",
      "metadata": {
        "id": "0fC2y-lJWFaK"
      },
      "source": [
        "## Use Logistic Regression and Predict Probabilities"
      ]
    },
    {
      "cell_type": "markdown",
      "metadata": {
        "id": "EKAZmXwUWMMC"
      },
      "source": [
        "Used the LogisticRegression method `predict_proba` to return the predicted probabilities for the data in the gpa column. Then the returned probabilities were assigned to `pred_probs_gpa`.\n",
        "Here is a scatter plot of predicted probability vs. gpa."
      ]
    },
    {
      "cell_type": "code",
      "metadata": {
        "colab": {
          "base_uri": "https://localhost:8080/",
          "height": 296
        },
        "id": "gH8wpdSKVJLq",
        "outputId": "530a982d-dc55-4c98-c604-1ce439627da2"
      },
      "source": [
        "pred_probs_gpa = logistic_model.predict_proba(admissions[[\"gpa\"]])\n",
        "plt.scatter(admissions[\"gpa\"], pred_probs_gpa[:,1])\n",
        "plt.xlabel('gpa')\n",
        "plt.ylabel('Admission Probability')"
      ],
      "execution_count": 65,
      "outputs": [
        {
          "output_type": "execute_result",
          "data": {
            "text/plain": [
              "Text(0, 0.5, 'Admission Probability')"
            ]
          },
          "metadata": {
            "tags": []
          },
          "execution_count": 65
        },
        {
          "output_type": "display_data",
          "data": {
            "image/png": "[encoded data removed]",
            "text/plain": [
              "<Figure size 432x288 with 1 Axes>"
            ]
          },
          "metadata": {
            "tags": [],
            "needs_background": "light"
          }
        }
      ]
    },
    {
      "cell_type": "markdown",
      "metadata": {
        "id": "DNzZfMUmXp6H"
      },
      "source": [
        "Here, the scatter plot suggests a linear relationship between the gpa values and the probability of being admitted. This is because logistic regression is an adapted version of linear regression for classification problems. Both logistic and linear regression are used to capture linear relationships between the independent variables and the dependent variable. \n",
        "\n",
        "Next is predicting whether the students based on the gpa is admitted."
      ]
    },
    {
      "cell_type": "code",
      "metadata": {
        "colab": {
          "base_uri": "https://localhost:8080/",
          "height": 296
        },
        "id": "jIxQMarZXSTC",
        "outputId": "376d882c-af9a-421d-83e5-b540c492d66e"
      },
      "source": [
        "fitted_labels_gpa = logistic_model.predict(admissions[[\"gpa\"]])\n",
        "plt.scatter(admissions[\"gpa\"], fitted_labels_gpa)\n",
        "plt.xlabel('gpa')\n",
        "plt.ylabel('Predicted Admission Result')"
      ],
      "execution_count": 66,
      "outputs": [
        {
          "output_type": "execute_result",
          "data": {
            "text/plain": [
              "Text(0, 0.5, 'Predicted Admission Result')"
            ]
          },
          "metadata": {
            "tags": []
          },
          "execution_count": 66
        },
        {
          "output_type": "display_data",
          "data": {
            "image/png": "[encoded data removed]",
            "text/plain": [
              "<Figure size 432x288 with 1 Axes>"
            ]
          },
          "metadata": {
            "tags": [],
            "needs_background": "light"
          }
        }
      ]
    },
    {
      "cell_type": "markdown",
      "metadata": {
        "id": "7fiRjDu7Yi8T"
      },
      "source": [
        "Based on the above scatterplot, looks like any student with a gpa >= 3.5 has a chance of being admitted."
      ]
    },
    {
      "cell_type": "markdown",
      "metadata": {
        "id": "8ibvONAtcPyA"
      },
      "source": [
        "## For fun, repeat the process again, this time with GRE score"
      ]
    },
    {
      "cell_type": "code",
      "metadata": {
        "id": "ndjyD1E-aylu"
      },
      "source": [
        "logistic_model2 = LogisticRegression()\n",
        "logistic_model2.fit(admissions[[\"gre\"]], admissions[\"admit\"])\n",
        "pred_probs_gre = logistic_model2.predict_proba(admissions[[\"gre\"]])\n",
        "fitted_labels_gre = logistic_model2.predict(admissions[[\"gre\"]])"
      ],
      "execution_count": 67,
      "outputs": []
    },
    {
      "cell_type": "code",
      "metadata": {
        "colab": {
          "base_uri": "https://localhost:8080/",
          "height": 296
        },
        "id": "ku4fgE0AcyZD",
        "outputId": "bd7afc09-e541-463c-c418-dcbf8acd7e1e"
      },
      "source": [
        "plt.scatter(admissions[\"gre\"], pred_probs_gre[:,1])\n",
        "plt.xlabel('gre')\n",
        "plt.ylabel('Admission Probability')"
      ],
      "execution_count": 68,
      "outputs": [
        {
          "output_type": "execute_result",
          "data": {
            "text/plain": [
              "Text(0, 0.5, 'Admission Probability')"
            ]
          },
          "metadata": {
            "tags": []
          },
          "execution_count": 68
        },
        {
          "output_type": "display_data",
          "data": {
            "image/png": "[encoded data removed]",
            "text/plain": [
              "<Figure size 432x288 with 1 Axes>"
            ]
          },
          "metadata": {
            "tags": [],
            "needs_background": "light"
          }
        }
      ]
    },
    {
      "cell_type": "code",
      "metadata": {
        "colab": {
          "base_uri": "https://localhost:8080/",
          "height": 296
        },
        "id": "K2iuGk39c-jt",
        "outputId": "a4917795-aade-48c3-fcff-8ec158b070d6"
      },
      "source": [
        "plt.scatter(admissions[\"gre\"], fitted_labels_gre)\n",
        "plt.xlabel('gre')\n",
        "plt.ylabel('Predicted Admission Result')"
      ],
      "execution_count": 69,
      "outputs": [
        {
          "output_type": "execute_result",
          "data": {
            "text/plain": [
              "Text(0, 0.5, 'Predicted Admission Result')"
            ]
          },
          "metadata": {
            "tags": []
          },
          "execution_count": 69
        },
        {
          "output_type": "display_data",
          "data": {
            "image/png": "[encoded data removed]",
            "text/plain": [
              "<Figure size 432x288 with 1 Axes>"
            ]
          },
          "metadata": {
            "tags": [],
            "needs_background": "light"
          }
        }
      ]
    },
    {
      "cell_type": "markdown",
      "metadata": {
        "id": "FXZVpcJFd6eo"
      },
      "source": [
        "Based on the above scatterplot, looks like any student with a GRE >= 660 has a chance of being admitted."
      ]
    },
    {
      "cell_type": "markdown",
      "metadata": {
        "id": "jNwln7VMeSvI"
      },
      "source": [
        "## Let's use both GPA and GRE"
      ]
    },
    {
      "cell_type": "code",
      "metadata": {
        "id": "4wUoJJQvdCHS"
      },
      "source": [
        "logistic_model3 = LogisticRegression()\n",
        "logistic_model3.fit(admissions[[\"gpa\",\"gre\"]], admissions[\"admit\"])\n",
        "pred_probs_gre_gpa = logistic_model3.predict_proba(admissions[[\"gpa\",\"gre\"]])\n",
        "fitted_labels_gre_gpa = logistic_model3.predict(admissions[[\"gpa\",\"gre\"]])"
      ],
      "execution_count": 70,
      "outputs": []
    },
    {
      "cell_type": "markdown",
      "metadata": {
        "id": "9MHUoodxgNDd"
      },
      "source": [
        "# Comparing Logistic Models' Accuracy"
      ]
    },
    {
      "cell_type": "code",
      "metadata": {
        "colab": {
          "base_uri": "https://localhost:8080/"
        },
        "id": "FNUZ6wZne05w",
        "outputId": "6b2f2d36-3412-44c4-e3dd-6bc2f937ebdd"
      },
      "source": [
        "sum(fitted_labels_gpa == admissions['admit'])/admissions.shape[0]"
      ],
      "execution_count": 71,
      "outputs": [
        {
          "output_type": "execute_result",
          "data": {
            "text/plain": [
              "0.6847826086956522"
            ]
          },
          "metadata": {
            "tags": []
          },
          "execution_count": 71
        }
      ]
    },
    {
      "cell_type": "code",
      "metadata": {
        "colab": {
          "base_uri": "https://localhost:8080/"
        },
        "id": "FLMOkvYUfKMo",
        "outputId": "ebf9aef7-0398-477e-dc06-a61c8d3e3b2a"
      },
      "source": [
        "sum(fitted_labels_gre == admissions['admit'])/admissions.shape[0]"
      ],
      "execution_count": 72,
      "outputs": [
        {
          "output_type": "execute_result",
          "data": {
            "text/plain": [
              "0.7267080745341615"
            ]
          },
          "metadata": {
            "tags": []
          },
          "execution_count": 72
        }
      ]
    },
    {
      "cell_type": "code",
      "metadata": {
        "colab": {
          "base_uri": "https://localhost:8080/"
        },
        "id": "7q3Ql7thgd-L",
        "outputId": "4c70c5e8-63b8-4164-c105-5b41a051974e"
      },
      "source": [
        "sum(fitted_labels_gre_gpa == admissions['admit'])/admissions.shape[0]"
      ],
      "execution_count": 73,
      "outputs": [
        {
          "output_type": "execute_result",
          "data": {
            "text/plain": [
              "0.7872670807453416"
            ]
          },
          "metadata": {
            "tags": []
          },
          "execution_count": 73
        }
      ]
    },
    {
      "cell_type": "markdown",
      "metadata": {
        "id": "CGM05kiAg2V0"
      },
      "source": [
        "GPA and GRE together can predict admission chances of a candidate better than either solely GPA or solely GRE."
      ]
    },
    {
      "cell_type": "markdown",
      "metadata": {
        "id": "4pXq2KN4R-jg"
      },
      "source": [
        "## Evaluating Specificity and Sensitivity of these Models"
      ]
    },
    {
      "cell_type": "markdown",
      "metadata": {
        "id": "f__sKfekScpw"
      },
      "source": [
        "\r\n",
        "*   **True Positive (TP)**: model correctly predicted that a candidate would be admitted.\r\n",
        "*   **True Negative (TN)**: model correctly predicted that a candidate would not be admitted.\r\n",
        "*   **False Positive (FP)** model incorrectly predicted that a candidate would be admitted even though the student got rejected.\r\n",
        "*   **False Negative (FN)**: model incorrectly predicted that a candidate would not be admitted even though the student got admitted."
      ]
    },
    {
      "cell_type": "markdown",
      "metadata": {
        "id": "Q9viFzi0C9MQ"
      },
      "source": [
        "**Calculating Sensitivity or True Positive Rate (TPR)**\r\n",
        "\r\n",
        "\\begin{equation*}\r\n",
        "TPR = \\frac{TP}{TP+FN}\r\n",
        "\\end{equation*}\r\n",
        "\r\n",
        "**Calculating Specificity or True Negative Rate (TNR)**\r\n",
        "\r\n",
        "\\begin{equation*}\r\n",
        "TNR = \\frac{TN}{TN+FP}\r\n",
        "\\end{equation*}\r\n"
      ]
    },
    {
      "cell_type": "code",
      "metadata": {
        "id": "QsYHzS-4sRhk"
      },
      "source": [
        "def build_logReg(df, cols, target):\r\n",
        "  model = LogisticRegression()\r\n",
        "  model.fit(df[cols], df[target])\r\n",
        "  return model.predict(df[cols])"
      ],
      "execution_count": 74,
      "outputs": []
    },
    {
      "cell_type": "code",
      "metadata": {
        "colab": {
          "base_uri": "https://localhost:8080/",
          "height": 419
        },
        "id": "SU4TlX6wjxzX",
        "outputId": "926b9ae0-6a72-4b5f-a2d1-b3749be441c3"
      },
      "source": [
        "admissions['predicted_by_gpa'] = build_logReg(admissions, ['gpa'], 'admit')\r\n",
        "admissions['predicted_by_gre'] = build_logReg(admissions, ['gre'], 'admit')\r\n",
        "admissions['predicted_by_gre_gpa'] = build_logReg(admissions, ['gpa','gre'], 'admit')\r\n",
        "admissions"
      ],
      "execution_count": 75,
      "outputs": [
        {
          "output_type": "execute_result",
          "data": {
            "text/html": [
              "<div>\n",
              "<style scoped>\n",
              "    .dataframe tbody tr th:only-of-type {\n",
              "        vertical-align: middle;\n",
              "    }\n",
              "\n",
              "    .dataframe tbody tr th {\n",
              "        vertical-align: top;\n",
              "    }\n",
              "\n",
              "    .dataframe thead th {\n",
              "        text-align: right;\n",
              "    }\n",
              "</style>\n",
              "<table border=\"1\" class=\"dataframe\">\n",
              "  <thead>\n",
              "    <tr style=\"text-align: right;\">\n",
              "      <th></th>\n",
              "      <th>admit</th>\n",
              "      <th>gpa</th>\n",
              "      <th>gre</th>\n",
              "      <th>predicted_by_gpa</th>\n",
              "      <th>predicted_by_gre</th>\n",
              "      <th>predicted_by_gre_gpa</th>\n",
              "    </tr>\n",
              "  </thead>\n",
              "  <tbody>\n",
              "    <tr>\n",
              "      <th>0</th>\n",
              "      <td>0</td>\n",
              "      <td>3.177277</td>\n",
              "      <td>594.102992</td>\n",
              "      <td>0</td>\n",
              "      <td>0</td>\n",
              "      <td>0</td>\n",
              "    </tr>\n",
              "    <tr>\n",
              "      <th>1</th>\n",
              "      <td>0</td>\n",
              "      <td>3.412655</td>\n",
              "      <td>631.528607</td>\n",
              "      <td>0</td>\n",
              "      <td>0</td>\n",
              "      <td>1</td>\n",
              "    </tr>\n",
              "    <tr>\n",
              "      <th>2</th>\n",
              "      <td>0</td>\n",
              "      <td>2.728097</td>\n",
              "      <td>553.714399</td>\n",
              "      <td>0</td>\n",
              "      <td>0</td>\n",
              "      <td>0</td>\n",
              "    </tr>\n",
              "    <tr>\n",
              "      <th>3</th>\n",
              "      <td>0</td>\n",
              "      <td>3.093559</td>\n",
              "      <td>551.089985</td>\n",
              "      <td>0</td>\n",
              "      <td>0</td>\n",
              "      <td>0</td>\n",
              "    </tr>\n",
              "    <tr>\n",
              "      <th>4</th>\n",
              "      <td>0</td>\n",
              "      <td>3.141923</td>\n",
              "      <td>537.184894</td>\n",
              "      <td>0</td>\n",
              "      <td>0</td>\n",
              "      <td>0</td>\n",
              "    </tr>\n",
              "    <tr>\n",
              "      <th>...</th>\n",
              "      <td>...</td>\n",
              "      <td>...</td>\n",
              "      <td>...</td>\n",
              "      <td>...</td>\n",
              "      <td>...</td>\n",
              "      <td>...</td>\n",
              "    </tr>\n",
              "    <tr>\n",
              "      <th>639</th>\n",
              "      <td>1</td>\n",
              "      <td>3.381359</td>\n",
              "      <td>720.718438</td>\n",
              "      <td>0</td>\n",
              "      <td>1</td>\n",
              "      <td>1</td>\n",
              "    </tr>\n",
              "    <tr>\n",
              "      <th>640</th>\n",
              "      <td>1</td>\n",
              "      <td>3.083956</td>\n",
              "      <td>556.918021</td>\n",
              "      <td>0</td>\n",
              "      <td>0</td>\n",
              "      <td>0</td>\n",
              "    </tr>\n",
              "    <tr>\n",
              "      <th>641</th>\n",
              "      <td>1</td>\n",
              "      <td>3.114419</td>\n",
              "      <td>734.297679</td>\n",
              "      <td>0</td>\n",
              "      <td>1</td>\n",
              "      <td>1</td>\n",
              "    </tr>\n",
              "    <tr>\n",
              "      <th>642</th>\n",
              "      <td>1</td>\n",
              "      <td>3.549012</td>\n",
              "      <td>604.697503</td>\n",
              "      <td>1</td>\n",
              "      <td>0</td>\n",
              "      <td>1</td>\n",
              "    </tr>\n",
              "    <tr>\n",
              "      <th>643</th>\n",
              "      <td>1</td>\n",
              "      <td>3.532753</td>\n",
              "      <td>588.986175</td>\n",
              "      <td>1</td>\n",
              "      <td>0</td>\n",
              "      <td>0</td>\n",
              "    </tr>\n",
              "  </tbody>\n",
              "</table>\n",
              "<p>644 rows × 6 columns</p>\n",
              "</div>"
            ],
            "text/plain": [
              "     admit       gpa  ...  predicted_by_gre  predicted_by_gre_gpa\n",
              "0        0  3.177277  ...                 0                     0\n",
              "1        0  3.412655  ...                 0                     1\n",
              "2        0  2.728097  ...                 0                     0\n",
              "3        0  3.093559  ...                 0                     0\n",
              "4        0  3.141923  ...                 0                     0\n",
              "..     ...       ...  ...               ...                   ...\n",
              "639      1  3.381359  ...                 1                     1\n",
              "640      1  3.083956  ...                 0                     0\n",
              "641      1  3.114419  ...                 1                     1\n",
              "642      1  3.549012  ...                 0                     1\n",
              "643      1  3.532753  ...                 0                     0\n",
              "\n",
              "[644 rows x 6 columns]"
            ]
          },
          "metadata": {
            "tags": []
          },
          "execution_count": 75
        }
      ]
    },
    {
      "cell_type": "code",
      "metadata": {
        "colab": {
          "base_uri": "https://localhost:8080/"
        },
        "id": "VV1gwooTRYaP",
        "outputId": "3fe549e6-8db2-4e01-cc09-441f47e70c17"
      },
      "source": [
        "def TPTN(df, prediction, actual):\r\n",
        "  true_positive_filter = (df[prediction] == 1) & (df[actual] == 1)\r\n",
        "  true_positives = len(df[true_positive_filter])\r\n",
        "  true_negative_filter = (df[prediction] == 0) & (df[actual] == 0)\r\n",
        "  true_negatives = len(df[true_negative_filter])\r\n",
        "  false_positive_filter = (df[prediction] == 1) & (df[actual] == 0)\r\n",
        "  false_positives = len(df[false_positive_filter])\r\n",
        "  false_negative_filter = (df[prediction] == 0) & (df[actual] == 1)\r\n",
        "  false_negatives = len(df[false_negative_filter])\r\n",
        "\r\n",
        "  TPR = true_positives/(true_positives+false_negatives)\r\n",
        "  TNR = true_negatives/(true_negatives+false_positives)\r\n",
        "\r\n",
        "  print(\"Sensitivity = {}, Specificity = {}\".format(TPR,TNR))\r\n",
        "\r\n",
        "TPTN(admissions, \"predicted_by_gpa\", \"admit\")\r\n",
        "TPTN(admissions, \"predicted_by_gre\", \"admit\")\r\n",
        "TPTN(admissions, \"predicted_by_gre_gpa\", \"admit\")"
      ],
      "execution_count": 76,
      "outputs": [
        {
          "output_type": "stream",
          "text": [
            "Sensitivity = 0.36475409836065575, Specificity = 0.88\n",
            "Sensitivity = 0.5409836065573771, Specificity = 0.84\n",
            "Sensitivity = 0.6721311475409836, Specificity = 0.8575\n"
          ],
          "name": "stdout"
        }
      ]
    },
    {
      "cell_type": "markdown",
      "metadata": {
        "id": "aK6HgMcSFRbw"
      },
      "source": [
        "For all of these models, their sensitivity values are unacceptably high. This indicates that the metrics of GPA and GRE scores are not enough information to accurately predict whether or not a candidate would earn admission into the university."
      ]
    }
  ]
}